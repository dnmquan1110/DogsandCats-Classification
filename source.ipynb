{
  "nbformat": 4,
  "nbformat_minor": 0,
  "metadata": {
    "accelerator": "GPU",
    "colab": {
      "name": "AI Final",
      "provenance": [],
      "collapsed_sections": []
    },
    "kernelspec": {
      "display_name": "Python 3",
      "name": "python3"
    }
  },
  "cells": [
    {
      "cell_type": "markdown",
      "metadata": {
        "id": "lIYdn1woOS1n"
      },
      "source": [
        "# Cats vs Dogs\n",
        "\n",
        "Chúng ta sẽ tạo một thuật toán phân biệt mèo và chó thông qua hình ảnh\n",
        "\n",
        "Với con người, việc phân biệt giữa chó và mèo là một việc vô cùng đơn giản nhưng đối với một máy tính thì gặp khá nhiều khó khăn.\n",
        "\n",
        "![](https://storage.googleapis.com/kaggle-competitions/kaggle/3362/media/woof_meow.jpg)"
      ]
    },
    {
      "cell_type": "markdown",
      "metadata": {
        "id": "8bP42zFvXmgN"
      },
      "source": [
        "# Khai báo thư viện"
      ]
    },
    {
      "cell_type": "markdown",
      "metadata": {
        "id": "86XI14Xxm4dO"
      },
      "source": [
        "Chúng ta sẽ khai báo tất cả các thư viện cần thiết và các hàm trong tensorflow để xây dựng và train mô hình deep learning"
      ]
    },
    {
      "cell_type": "code",
      "metadata": {
        "id": "uEsxOo41XzBE"
      },
      "source": [
        "import matplotlib.pyplot as plt\n",
        "import numpy as np\n",
        "from PIL import Image\n",
        "import matplotlib.cm as cm\n",
        "import os                  \n",
        "import shutil              \n",
        "from pathlib import Path\n",
        "import random\n",
        "import cv2\n",
        "\n",
        "import tensorflow as tf\n",
        "from tensorflow.keras.preprocessing.image import load_img, img_to_array, ImageDataGenerator\n",
        "from tensorflow.keras.applications.resnet_v2 import preprocess_input\n",
        "from tensorflow.python.keras.callbacks import EarlyStopping, ModelCheckpoint\n",
        "from tensorflow.keras.models import Model, Sequential\n",
        "from tensorflow.keras import optimizers\n",
        "from tensorflow.keras.layers import Dense, Flatten, Activation\n",
        "from tensorflow.keras import backend as K\n",
        "from tensorflow.keras.applications import ResNet50V2\n",
        "from tensorflow.keras.applications.imagenet_utils import decode_predictions\n"
      ],
      "execution_count": null,
      "outputs": []
    },
    {
      "cell_type": "code",
      "metadata": {
        "id": "uJ38rMHpX1-e"
      },
      "source": [
        "# Kiểm tra phiên bản của python và tensorflow\n",
        "!python --version\n",
        "print(\"TensorFlow:\",tf.__version__)"
      ],
      "execution_count": null,
      "outputs": []
    },
    {
      "cell_type": "code",
      "metadata": {
        "id": "ufA500Cg8PMp"
      },
      "source": [
        "!nvidia-smi"
      ],
      "execution_count": null,
      "outputs": []
    },
    {
      "cell_type": "markdown",
      "metadata": {
        "id": "o7TsGMVGnDBc"
      },
      "source": [
        "\n",
        "Chúng ta sẽ thiết lập kích thước mong muốn của tấm ảnh. Mỗi tấm ảnh đều sẽ được cắt về kích thước đã thiết lập trước khi train"
      ]
    },
    {
      "cell_type": "code",
      "metadata": {
        "id": "74nzMHTbjf_I"
      },
      "source": [
        "HEIGHT = 224\n",
        "WIDTH = 224"
      ],
      "execution_count": null,
      "outputs": []
    },
    {
      "cell_type": "markdown",
      "metadata": {
        "id": "qJ4iOsNVYfk0"
      },
      "source": [
        "# Download hình ảnh chó và mèo"
      ]
    },
    {
      "cell_type": "markdown",
      "metadata": {
        "id": "-mBtWk0qcJau"
      },
      "source": [
        "Chúng ta sẽ download hình ảnh chó mèo từ link này"
      ]
    },
    {
      "cell_type": "code",
      "metadata": {
        "id": "5kpyPXXAZJ4O"
      },
      "source": [
        "!wget 'https://s3.amazonaws.com/fast-ai-sample/dogscats.tgz'"
      ],
      "execution_count": null,
      "outputs": []
    },
    {
      "cell_type": "markdown",
      "metadata": {
        "id": "ZHZ3tPxjnduh"
      },
      "source": [
        "Chúng ta sẽ giải nén file .TGZ bằng câu lệnh này"
      ]
    },
    {
      "cell_type": "code",
      "metadata": {
        "id": "EnK6NqbfcVXv"
      },
      "source": [
        "!tar -xzf dogscats.tgz"
      ],
      "execution_count": null,
      "outputs": []
    },
    {
      "cell_type": "markdown",
      "metadata": {
        "id": "DTnYqywZc8_t"
      },
      "source": [
        "# Kiểm tra dữ liệu"
      ]
    },
    {
      "cell_type": "markdown",
      "metadata": {
        "id": "5Vw84R66iR0W"
      },
      "source": [
        "\n",
        "\n",
        "Đây là đường dẫn đến hai thư mục chứa hình chó và mèo"
      ]
    },
    {
      "cell_type": "code",
      "metadata": {
        "id": "4pGFMyXqdAxZ"
      },
      "source": [
        "DATA_PATH = Path('./dogscats')\n",
        "dog_paths = [str(i) for i in (DATA_PATH/'train/dogs').glob('*') if i.is_file()]\n",
        "cat_paths = [str(i) for i in (DATA_PATH/'train/cats').glob('*') if i.is_file()]"
      ],
      "execution_count": null,
      "outputs": []
    },
    {
      "cell_type": "markdown",
      "metadata": {
        "id": "PKLnIzoLqQPN"
      },
      "source": [
        "Đây là 5 đường dẫn của 5 tấm đầu tiên của thư mục chó"
      ]
    },
    {
      "cell_type": "code",
      "metadata": {
        "id": "J6_QEE1mqXBF"
      },
      "source": [
        "dog_paths[:5]"
      ],
      "execution_count": null,
      "outputs": []
    },
    {
      "cell_type": "markdown",
      "metadata": {
        "id": "--dmna_Sqroc"
      },
      "source": [
        "... và 5 tấm đầu tiên của thư mục mèo"
      ]
    },
    {
      "cell_type": "code",
      "metadata": {
        "id": "zBmxUOFqqbjC"
      },
      "source": [
        "cat_paths[:5]"
      ],
      "execution_count": null,
      "outputs": []
    },
    {
      "cell_type": "markdown",
      "metadata": {
        "id": "BHGt4KEKq5ms"
      },
      "source": [
        "\n",
        "Lưu ý rằng những tấm ảnh này không được lưu trên máy tính mà được lưu tạm thời ở Google Colab"
      ]
    },
    {
      "cell_type": "markdown",
      "metadata": {
        "id": "jmrXH5OWrOSr"
      },
      "source": [
        "Chúng ta cũng có thể kiểm tra số lượng hình ảnh chó và mèo mà có thể dùng để train"
      ]
    },
    {
      "cell_type": "code",
      "metadata": {
        "id": "Z8VHyuXRoLpy"
      },
      "source": [
        "print(f\"Number of dog images in our train dataset: {len(dog_paths)}\")\n",
        "print(f\"Number of cat images int our train dataset: {len(cat_paths)}\")"
      ],
      "execution_count": null,
      "outputs": []
    },
    {
      "cell_type": "markdown",
      "metadata": {
        "id": "nHpmPmZMvBXF"
      },
      "source": [
        "Chúng ta xem trong thư viện các ảnh mà ta có thể lấy ra được bằng câu lệnh```show_gallery```"
      ]
    },
    {
      "cell_type": "code",
      "metadata": {
        "id": "qHLhfZkTu8fy"
      },
      "source": [
        "#@title\n",
        "def reset_seed(seed=42):\n",
        "    np.random.seed(seed)\n",
        "    tf.random.set_seed(seed)\n",
        "reset_seed()\n",
        "\n",
        "def get_side(img, side_type, n = 5):\n",
        "    h, w, c = img.shape\n",
        "    if side_type == \"horizontal\":\n",
        "        return np.ones((h,n,c))\n",
        "    return np.ones((n,w,c))\n",
        "\n",
        "def show_gallery(im_ls,n=5, shuffle=True):\n",
        "    '''\n",
        "    Adapted with serveral modifications \n",
        "    from https://www.kaggle.com/serkanpeldek/keras-cnn-transfer-learnings-on-cats-dogs-dataset\n",
        "    '''\n",
        "    images = []\n",
        "    vertical_images = []\n",
        "    if shuffle:\n",
        "        random.shuffle(im_ls)\n",
        "    vertical_images = []\n",
        "    for i in range(n*n):\n",
        "        img = load_img(im_ls[i], target_size=(HEIGHT,WIDTH))\n",
        "        img = img_to_array(img)\n",
        "        hside = get_side(img,side_type=\"horizontal\")\n",
        "        images.append(img)\n",
        "        images.append(hside)\n",
        "        \n",
        "        if (i+1) % n == 0:\n",
        "            himage=np.hstack((images))\n",
        "            vside = get_side(himage, side_type=\"vertical\")\n",
        "            vertical_images.append(himage)\n",
        "            vertical_images.append(vside)\n",
        "            \n",
        "            images = []\n",
        "        \n",
        "    gallery = np.vstack((vertical_images))\n",
        "    plt.figure(figsize=(10,10))\n",
        "    plt.axis(\"off\")\n",
        "    plt.imshow(gallery.astype(np.uint8))\n",
        "    plt.show()"
      ],
      "execution_count": null,
      "outputs": []
    },
    {
      "cell_type": "markdown",
      "metadata": {
        "id": "PpuqPrAYpmRC"
      },
      "source": [
        "Giờ thì chúng ta có thể sử dụng ```show_gallery```\n",
        "để hiện hình ảnh."
      ]
    },
    {
      "cell_type": "code",
      "metadata": {
        "id": "j8Hs7fhViQpN"
      },
      "source": [
        "# Show dog images\n",
        "show_gallery(dog_paths, n=3)"
      ],
      "execution_count": null,
      "outputs": []
    },
    {
      "cell_type": "code",
      "metadata": {
        "id": "YdtDzbJKkDTd"
      },
      "source": [
        "# Show cats images\n",
        "show_gallery(cat_paths, n=3)"
      ],
      "execution_count": null,
      "outputs": []
    },
    {
      "cell_type": "markdown",
      "metadata": {
        "id": "-Gq2NvgTo447"
      },
      "source": [
        "# Giờ thì chúng sẽ xây dựng và train mô hình deep learning"
      ]
    },
    {
      "cell_type": "markdown",
      "metadata": {
        "id": "1hqXVbc4sKTR"
      },
      "source": [
        "## Chuẩn bị dữ liệu cho mô hình bằng cách sử dụng Tensorflow 2"
      ]
    },
    {
      "cell_type": "markdown",
      "metadata": {
        "id": "F1tgIkfRsztX"
      },
      "source": [
        "\n",
        "Chúng ta có thể train mô hình bằng GPU miễn phí từ Google. Tuy nhiên, trước xây dựng mô hình, các dữ liệu phải được chuẩn bị trước\n",
        "\n",
        "Tất nhiên với deep learning, chúng ta sẽ không tải từng hình ảnh vào GPU (Vì số lượng ảnh rất lớn). Thay vào đó, chúng ta sẽ sử dụng **generator** để tải các hình ảnh khi được cần. Các hàm dưới đây sẽ giúp chúng ta tạo **generator**. Với **batch_size = 32**, chúng ta có thể khởi tạo 32 ảnh chúng một thời điểm\n",
        "\n",
        "Một thứ thú vị khác mà chúng ta nên làm khi train mô hình deep learning là sử dụng một bộ dữ liệu khác gọi là **validation set**, thứ mà giúp chúng ta kiểm tra hiệu suất của mô hình (Chúng ta không train mô hình trên bộ dữ liệu này). Nếu hoạt động tốt trên bộ dữ liệu này nghĩa là mô hình chúng có thể hoạt động tốt ở trong tương lai"
      ]
    },
    {
      "cell_type": "code",
      "metadata": {
        "id": "ZZ8GBlvGsOkv"
      },
      "source": [
        "def prepare_data(batch_size):\n",
        "    train_datagen = ImageDataGenerator(preprocessing_function = preprocess_input)\n",
        "    val_datagen = ImageDataGenerator(preprocessing_function = preprocess_input)\n",
        "\n",
        "    train_generator = train_datagen.flow_from_directory(\n",
        "                            DATA_PATH/'train', \n",
        "                            target_size=(HEIGHT,WIDTH),\n",
        "                            batch_size=batch_size,\n",
        "                            shuffle=True,\n",
        "                            seed=42,\n",
        "                            class_mode='categorical')\n",
        "    \n",
        "    validation_generator = val_datagen.flow_from_directory(\n",
        "                            DATA_PATH/'valid',\n",
        "                            target_size=(HEIGHT,WIDTH),\n",
        "                            batch_size=batch_size,\n",
        "                            shuffle=False,\n",
        "                            class_mode='categorical')\n",
        "    \n",
        "    return train_generator,validation_generator\n",
        "\n",
        "\n",
        "BATCH_SIZE = 32\n",
        "train_generator,val_generator = prepare_data(BATCH_SIZE)"
      ],
      "execution_count": null,
      "outputs": []
    },
    {
      "cell_type": "markdown",
      "metadata": {
        "id": "qNeyf-sBtczC"
      },
      "source": [
        "# Chọn kiến trúc deep learning"
      ]
    },
    {
      "cell_type": "markdown",
      "metadata": {
        "id": "CTk0Pz-xy9BO"
      },
      "source": [
        "Ở bước này, chúng ta sẽ sử dụng mô hình đã được tạo sẵn, và được giải trong cuộc thi 2015 ImageNet Large Scale Visual Recognition. Mô hình này được gọi là ResNet, viết tắt cho Residual Networks, và nó được phát triển bởi Microsoft. Mặc dù được tạo trong năm 2015, nó được xem như là kiến trúc deep learning cơ bản vì được sử dụng cho các tác vụ thị giác máy tính. Một bước đột phá cơ bản của mô hình là **nó có thể dùng để train mạng nơ ron với hơn 100 lớp**\n",
        "\n",
        "\n",
        "Đây là minh họa của kiến trúc này\n",
        "![](https://images.viblo.asia/full/fe5b21e5-3ad3-4419-93e0-7aa77a662bdd.png)"
      ]
    },
    {
      "cell_type": "code",
      "metadata": {
        "id": "iMvwvfUTquld"
      },
      "source": [
        "resnet = ResNet50V2(include_top=False, pooling=\"avg\", weights='imagenet')\n",
        "for layer in resnet.layers:\n",
        "    layer.trainable=False\n",
        "\n",
        "logits = Dense(2)(resnet.output)\n",
        "output = Activation('softmax')(logits)\n",
        "model = Model(resnet.input, output)"
      ],
      "execution_count": null,
      "outputs": []
    },
    {
      "cell_type": "markdown",
      "metadata": {
        "id": "8tqoEneb53qV"
      },
      "source": [
        "\n",
        "Chạy câu lệnh sau để hiểu thêm về mô hình deep learning"
      ]
    },
    {
      "cell_type": "code",
      "metadata": {
        "id": "v_b3mmUa2zOe"
      },
      "source": [
        "model.summary()"
      ],
      "execution_count": null,
      "outputs": []
    },
    {
      "cell_type": "markdown",
      "metadata": {
        "id": "WQXDLwT36cuq"
      },
      "source": [
        "\n",
        "Mỗi mô hình deep learning cần có một công cụ tối ưu hóa, chúng ta sẽ sử dụng công cụ tên là **Stochastic Gradient Descent**, thứ mà cho một thuật toán tối ưu để giảm thiểu **loss function**, giúp cải thiến hiệu suất của mô hình"
      ]
    },
    {
      "cell_type": "code",
      "metadata": {
        "id": "8fLazpIduSx7"
      },
      "source": [
        "sgd = optimizers.SGD(lr = 0.01, decay = 1e-6, momentum = 0.9, nesterov = True)"
      ],
      "execution_count": null,
      "outputs": []
    },
    {
      "cell_type": "markdown",
      "metadata": {
        "id": "2ScdQVzQ6nHw"
      },
      "source": [
        "\n",
        "\n",
        "Tại đây chúng ta sẽ có hai thông số là **loss function** và **accuracy**. **loss function** càng thấp và **accuracy** càng cao thì mô hình đang được train theo hướng ta mong muốn\n",
        "\n"
      ]
    },
    {
      "cell_type": "code",
      "metadata": {
        "id": "2ahE5MwU6lSL"
      },
      "source": [
        "model.compile(optimizer=sgd, loss = \"categorical_crossentropy\", metrics=[\"accuracy\"])"
      ],
      "execution_count": null,
      "outputs": []
    },
    {
      "cell_type": "markdown",
      "metadata": {
        "id": "-QVTmNpj-f9_"
      },
      "source": [
        "Chúng ta sẽ cần một cái đánh dấu để lưu lại phiên bản tốt nhất của mô hình"
      ]
    },
    {
      "cell_type": "code",
      "metadata": {
        "id": "gQX1anwSuaFj"
      },
      "source": [
        "checkpointer = ModelCheckpoint(filepath=\"./resnet50best.h5\", monitor='val_loss', save_best_only=True, mode='auto')"
      ],
      "execution_count": null,
      "outputs": []
    },
    {
      "cell_type": "markdown",
      "metadata": {
        "id": "HINngJa3-nEs"
      },
      "source": [
        "\n",
        "\n",
        "Chúng ta sẽ cho mô hình train toàn bộ dữ liệu ba lần"
      ]
    },
    {
      "cell_type": "code",
      "metadata": {
        "id": "d16XXgUTuhgO"
      },
      "source": [
        "history = model.fit(\n",
        "    train_generator, \n",
        "    epochs=3,\n",
        "    validation_data=val_generator,\n",
        "    callbacks=[checkpointer]\n",
        ")"
      ],
      "execution_count": null,
      "outputs": []
    },
    {
      "cell_type": "markdown",
      "metadata": {
        "id": "36ycMy_nrqSu"
      },
      "source": [
        "# GradCAM "
      ]
    },
    {
      "cell_type": "markdown",
      "metadata": {
        "id": "shhlaVrdo9Xn"
      },
      "source": [
        "\n",
        "Mô hình deep learning có thể có các tỉ lệ không lường trước được. Như vậy chúng ta cần sử dụng GradCAM để có thể xác định được mô hình dựa vào chi tiết nào để đưa ra kết quả\n"
      ]
    },
    {
      "cell_type": "code",
      "metadata": {
        "cellView": "form",
        "id": "a6FFuPhCj7LI"
      },
      "source": [
        "#@title Run this cell to load GradCAM\n",
        "\n",
        "class GradCAM:\n",
        "    ''' \n",
        "    Adapted with some modification \n",
        "    from https://www.pyimagesearch.com/2020/03/09/grad-cam-visualize-class-activation-maps-with-keras-tensorflow-and-deep-learning/\n",
        "    '''\n",
        "    def __init__(self, model, layerName=None):\n",
        "        \"\"\"\n",
        "        model: pre-softmax layer (logit layer)\n",
        "        \"\"\"\n",
        "        self.model = model\n",
        "        self.layerName = layerName\n",
        "            \n",
        "        if self.layerName == None:\n",
        "            self.layerName = self.find_target_layer()\n",
        "    \n",
        "    def find_target_layer(self):\n",
        "        for layer in reversed(self.model.layers):\n",
        "            if len(layer.output_shape) == 4:\n",
        "                return layer.name\n",
        "        raise ValueError(\"Could not find 4D layer. Cannot apply GradCAM\")\n",
        "            \n",
        "    def compute_heatmap(self, image, classIdx, upsample_size, eps=1e-5):\n",
        "        gradModel = Model(\n",
        "            inputs = [self.model.inputs],\n",
        "            outputs = [self.model.get_layer(self.layerName).output, self.model.output]\n",
        "        )\n",
        "        # record operations for automatic differentiation\n",
        "        \n",
        "        with tf.GradientTape() as tape:\n",
        "            inputs = tf.cast(image, tf.float32)\n",
        "            (convOuts, preds) = gradModel(inputs) # preds after softmax\n",
        "            loss = preds[:,classIdx]\n",
        "        \n",
        "        # compute gradients with automatic differentiation\n",
        "        grads = tape.gradient(loss, convOuts)\n",
        "        # discard batch\n",
        "        convOuts = convOuts[0]\n",
        "        grads = grads[0]\n",
        "        norm_grads = tf.divide(grads, tf.reduce_mean(tf.square(grads)) + tf.constant(eps))\n",
        "        \n",
        "        # compute weights\n",
        "        weights = tf.reduce_mean(norm_grads, axis=(0,1))\n",
        "        cam = tf.reduce_sum(tf.multiply(weights, convOuts), axis=-1)\n",
        "        \n",
        "        # Apply reLU\n",
        "        cam = np.maximum(cam, 0)\n",
        "        cam = cam/np.max(cam)\n",
        "        cam = cv2.resize(cam, upsample_size,interpolation=cv2.INTER_LINEAR)\n",
        "        \n",
        "        # convert to 3D\n",
        "        cam3 = np.expand_dims(cam, axis=2)\n",
        "        cam3 = np.tile(cam3, [1,1,3])\n",
        "        \n",
        "        return cam3\n",
        "    \n",
        "def overlay_gradCAM(img, cam3):\n",
        "    cam3 = np.uint8(255*cam3)\n",
        "    cam3 = cv2.applyColorMap(cam3, cv2.COLORMAP_JET)\n",
        "    \n",
        "    new_img = 0.3*cam3 + 0.5*img\n",
        "    \n",
        "    return (new_img*255.0/new_img.max()).astype(\"uint8\")\n",
        "\n",
        "\n",
        "@tf.custom_gradient\n",
        "def guidedRelu(x):\n",
        "    def grad(dy):\n",
        "        return tf.cast(dy>0,\"float32\") * tf.cast(x>0, \"float32\") * dy\n",
        "    return tf.nn.relu(x), grad\n",
        "\n",
        "class GuidedBackprop:\n",
        "    def __init__(self,model, layerName=None):\n",
        "        self.model = model\n",
        "        self.layerName = layerName\n",
        "        self.gbModel = self.build_guided_model()\n",
        "        \n",
        "        if self.layerName == None:\n",
        "            self.layerName = self.find_target_layer()\n",
        "\n",
        "    def find_target_layer(self):\n",
        "        for layer in reversed(self.model.layers):\n",
        "            if len(layer.output_shape) == 4:\n",
        "                return layer.name\n",
        "        raise ValueError(\"Could not find 4D layer. Cannot apply Guided Backpropagation\")\n",
        "\n",
        "    def build_guided_model(self):\n",
        "        gbModel = Model(\n",
        "            inputs = [self.model.inputs],\n",
        "            outputs = [self.model.get_layer(self.layerName).output]\n",
        "        )\n",
        "        layer_dict = [layer for layer in gbModel.layers[1:] if hasattr(layer,\"activation\")]\n",
        "        for layer in layer_dict:\n",
        "            if layer.activation == tf.keras.activations.relu:\n",
        "                layer.activation = guidedRelu\n",
        "        \n",
        "        return gbModel\n",
        "    \n",
        "    def guided_backprop(self, images, upsample_size):\n",
        "        \"\"\"Guided Backpropagation method for visualizing input saliency.\"\"\"\n",
        "        with tf.GradientTape() as tape:\n",
        "            inputs = tf.cast(images, tf.float32)\n",
        "            tape.watch(inputs)\n",
        "            outputs = self.gbModel(inputs)\n",
        "\n",
        "        grads = tape.gradient(outputs, inputs)[0]\n",
        "\n",
        "        saliency = cv2.resize(np.asarray(grads), upsample_size)\n",
        "\n",
        "        return saliency\n",
        "\n",
        "def deprocess_image(x):\n",
        "    \"\"\"Same normalization as in:\n",
        "    https://github.com/fchollet/keras/blob/master/examples/conv_filter_visualization.py\n",
        "    \"\"\"\n",
        "    # normalize tensor: center on 0., ensure std is 0.25\n",
        "    x = x.copy()\n",
        "    x -= x.mean()\n",
        "    x /= (x.std() + K.epsilon())\n",
        "    x *= 0.25\n",
        "\n",
        "    # clip to [0, 1]\n",
        "    x += 0.5\n",
        "    x = np.clip(x, 0, 1)\n",
        "\n",
        "    # convert to RGB array\n",
        "    x *= 255\n",
        "    if K.image_data_format() == 'channels_first':\n",
        "        x = x.transpose((1, 2, 0))\n",
        "    x = np.clip(x, 0, 255).astype('uint8')\n",
        "    return x"
      ],
      "execution_count": null,
      "outputs": []
    },
    {
      "cell_type": "code",
      "metadata": {
        "cellView": "form",
        "id": "klNuMEx6khR6"
      },
      "source": [
        "#@title Run this cell to prepare for GradCAM visualization\n",
        "\n",
        "def show_gradCAMs(model, gradCAM, GuidedBP, im_ls, n=3, decode={}):\n",
        "    \"\"\"\n",
        "    model: softmax layer\n",
        "    \"\"\"\n",
        "    random.shuffle(im_ls)\n",
        "    plt.subplots(figsize=(15, 5*n))\n",
        "    k=1\n",
        "    for i in range(n):\n",
        "        img = cv2.imread(im_ls[i])\n",
        "        upsample_size = (img.shape[1],img.shape[0])\n",
        "        # Show original image\n",
        "        plt.subplot(n,3,k)\n",
        "        plt.imshow(cv2.cvtColor(img,cv2.COLOR_BGR2RGB))\n",
        "        plt.title(\"Filename: {}\".format(im_ls[i]), fontsize=10)\n",
        "        plt.axis(\"off\")\n",
        "        # Show overlayed grad\n",
        "        plt.subplot(n,3,k+1)\n",
        "        im = img_to_array(load_img(im_ls[i], target_size=(HEIGHT,WIDTH)))\n",
        "        x = np.expand_dims(im, axis=0)\n",
        "        x = preprocess_input(x)\n",
        "        preds = model.predict(x)\n",
        "        idx = preds.argmax()\n",
        "        if len(decode)==0:\n",
        "            res = decode_predictions(preds)[0][0][1:]\n",
        "        else:\n",
        "            res = [decode[idx],preds.max()]\n",
        "        cam3 = gradCAM.compute_heatmap(image=x, classIdx=idx, upsample_size=upsample_size)\n",
        "        new_img = overlay_gradCAM(img, cam3)\n",
        "        new_img = cv2.cvtColor(new_img, cv2.COLOR_BGR2RGB)\n",
        "        plt.imshow(new_img)\n",
        "        plt.title(\"GradCAM - Pred: {}. Prob: {}%\".format(res[0],round(res[1]*100,2)), fontsize=10)\n",
        "        plt.axis(\"off\")\n",
        "        \n",
        "        # Show guided GradCAM\n",
        "        plt.subplot(n,3,k+2)\n",
        "        gb = GuidedBP.guided_backprop(x, upsample_size)\n",
        "        guided_gradcam = deprocess_image(gb*cam3)\n",
        "        guided_gradcam = cv2.cvtColor(guided_gradcam, cv2.COLOR_BGR2RGB)\n",
        "        plt.imshow(guided_gradcam)\n",
        "        plt.title(\"Guided GradCAM\", fontsize=10)\n",
        "        plt.axis(\"off\")\n",
        "        \n",
        "        k += 3\n",
        "    plt.show()"
      ],
      "execution_count": null,
      "outputs": []
    },
    {
      "cell_type": "markdown",
      "metadata": {
        "id": "VJJh68rSEED7"
      },
      "source": [
        "Tải phiên bản tốt nhất mô hình"
      ]
    },
    {
      "cell_type": "code",
      "metadata": {
        "id": "Sv8-MLDtxFPJ"
      },
      "source": [
        "model.load_weights(\"./resnet50best.h5\")"
      ],
      "execution_count": null,
      "outputs": []
    },
    {
      "cell_type": "markdown",
      "metadata": {
        "id": "p0WbRss1EnI_"
      },
      "source": [
        "... và tạo sự chuẩn bị cho GradCAM Visualization"
      ]
    },
    {
      "cell_type": "code",
      "metadata": {
        "id": "MvxJz2IflXSB"
      },
      "source": [
        "model_logit = Model(model.input,model.layers[-2].output)\n",
        "gradCAM = GradCAM(model=model_logit, layerName=\"conv5_block3_out\")\n",
        "guidedBP = GuidedBackprop(model=model,layerName=\"conv5_block3_out\")"
      ],
      "execution_count": null,
      "outputs": []
    },
    {
      "cell_type": "code",
      "metadata": {
        "id": "PfPIorCvzaqc"
      },
      "source": [
        "\n",
        "predictions = model.predict(val_generator, verbose = 1)\n",
        "pred_indices = np.argmax(predictions,axis=1)\n",
        "\n",
        "ground_truth = val_generator.classes\n",
        "filenames = np.array(val_generator.filenames)"
      ],
      "execution_count": null,
      "outputs": []
    },
    {
      "cell_type": "markdown",
      "metadata": {
        "id": "YZOVI6vm28Xm"
      },
      "source": [
        "## Phần nào của tấm ảnh được mô hình dùng để dự đoán chó?"
      ]
    },
    {
      "cell_type": "markdown",
      "metadata": {
        "id": "kjSjWj51Fs5B"
      },
      "source": [
        "Chúng ta sẽ lấy tất cả các dự đoán đúng của chó"
      ]
    },
    {
      "cell_type": "code",
      "metadata": {
        "id": "BLGQgaO10X3j"
      },
      "source": [
        "dogs_correct_path = filenames[(pred_indices == ground_truth) & (ground_truth==1)]\n",
        "dogs_correct_path = list(map(lambda x: str(DATA_PATH/'valid'/x),dogs_correct_path))"
      ],
      "execution_count": null,
      "outputs": []
    },
    {
      "cell_type": "markdown",
      "metadata": {
        "id": "V0PdizlfF3ma"
      },
      "source": [
        "\n",
        "Và cách mà mô hình dự đoán rằng đó là một con chó"
      ]
    },
    {
      "cell_type": "code",
      "metadata": {
        "id": "SQ1dKgLq25xy"
      },
      "source": [
        "show_gradCAMs(model, gradCAM,guidedBP,dogs_correct_path, n=5, decode={0:\"cat\", 1:\"dog\"})"
      ],
      "execution_count": null,
      "outputs": []
    },
    {
      "cell_type": "markdown",
      "metadata": {
        "id": "MaGNOQ9s3Rbt"
      },
      "source": [
        "## Phần nào của tấm ảnh được mô hình dùng để dự đoán mèo?"
      ]
    },
    {
      "cell_type": "markdown",
      "metadata": {
        "id": "3FjwMPEnGGrk"
      },
      "source": [
        "Chúng ta sẽ lấy tất cả các dự đoán đúng của mèo"
      ]
    },
    {
      "cell_type": "code",
      "metadata": {
        "id": "6BFiaJZD3bGw"
      },
      "source": [
        "cats_correct_path = filenames[(pred_indices == ground_truth) & (ground_truth==0)]\n",
        "cats_correct_path = list(map(lambda x: str(DATA_PATH/'valid'/x),cats_correct_path))"
      ],
      "execution_count": null,
      "outputs": []
    },
    {
      "cell_type": "markdown",
      "metadata": {
        "id": "oM_NiItasPRR"
      },
      "source": [
        "\n",
        "Và cách mà mô hình dự đoán rằng đó là một con mèo"
      ]
    },
    {
      "cell_type": "code",
      "metadata": {
        "id": "kXG6c2Tb3hSJ"
      },
      "source": [
        "show_gradCAMs(model, gradCAM,guidedBP,cats_correct_path, n=5, decode={0:\"cat\", 1:\"dog\"})"
      ],
      "execution_count": null,
      "outputs": []
    },
    {
      "cell_type": "markdown",
      "metadata": {
        "id": "kdTpF4cLJSRA"
      },
      "source": [
        "# Các dự đoán sai"
      ]
    },
    {
      "cell_type": "markdown",
      "metadata": {
        "id": "28mhQOiK37eA"
      },
      "source": [
        "## Các bức ảnh này là của chó nhưng mô hình lại dư đoán là mèo\n",
        "\n"
      ]
    },
    {
      "cell_type": "code",
      "metadata": {
        "id": "fNuxAWGF4KU2"
      },
      "source": [
        "cat_but_actually_dog_path = filenames[(pred_indices != ground_truth) & (ground_truth==1)]\n",
        "cat_but_actually_dog_path = list(map(lambda x: str(DATA_PATH/'valid'/x),cat_but_actually_dog_path))"
      ],
      "execution_count": null,
      "outputs": []
    },
    {
      "cell_type": "code",
      "metadata": {
        "id": "YSABGSWL4TAD"
      },
      "source": [
        "show_gradCAMs(model, gradCAM,guidedBP,cat_but_actually_dog_path, n=3, decode={0:\"cat\", 1:\"dog\"})"
      ],
      "execution_count": null,
      "outputs": []
    },
    {
      "cell_type": "markdown",
      "metadata": {
        "id": "63M0_exr45GH"
      },
      "source": [
        "## Các bức ảnh này là của mèo nhưng mô hình lại dư đoán là chó\n",
        "\n"
      ]
    },
    {
      "cell_type": "code",
      "metadata": {
        "id": "gccaTuX9482_"
      },
      "source": [
        "dog_but_actually_cat_path = filenames[(pred_indices != ground_truth) & (ground_truth==0)]\n",
        "dog_but_actually_cat_path = list(map(lambda x: str(DATA_PATH/'valid'/x),dog_but_actually_cat_path))"
      ],
      "execution_count": null,
      "outputs": []
    },
    {
      "cell_type": "code",
      "metadata": {
        "id": "ZOTqa8qy5ADo"
      },
      "source": [
        "show_gradCAMs(model, gradCAM,guidedBP,dog_but_actually_cat_path, n=3, decode={0:\"cat\", 1:\"dog\"})"
      ],
      "execution_count": null,
      "outputs": []
    },
    {
      "cell_type": "markdown",
      "metadata": {
        "id": "5jkUqz2-6MgA"
      },
      "source": [
        "# Kiểm tra bằng hình ảnh của bạn"
      ]
    },
    {
      "cell_type": "code",
      "metadata": {
        "id": "v0vPCmYWG3SZ"
      },
      "source": [
        "from google.colab import files\n",
        "\n",
        "uploaded = files.upload()\n",
        "\n",
        "for fn in uploaded.keys():\n",
        "  uploaded_path = '/content/' + fn\n",
        "  print(f'You have uploaded this image file: {uploaded_path}' )"
      ],
      "execution_count": null,
      "outputs": []
    },
    {
      "cell_type": "markdown",
      "metadata": {
        "id": "UhU_SuyUHy_T"
      },
      "source": [
        "Kiểm tra xem mô hình đoán ảnh của bạn là chó hay mèo"
      ]
    },
    {
      "cell_type": "code",
      "metadata": {
        "id": "Z2lrY6KeHkOM"
      },
      "source": [
        "show_gradCAMs(model, gradCAM,guidedBP,[uploaded_path], n=1, decode={0:\"cat\", 1:\"dog\"})"
      ],
      "execution_count": null,
      "outputs": []
    }
  ]
}